{
  "nbformat": 4,
  "nbformat_minor": 0,
  "metadata": {
    "colab": {
      "name": "MCTEKK-FB-EXERCIES.ipynb",
      "provenance": [],
      "collapsed_sections": [],
      "toc_visible": true,
      "authorship_tag": "ABX9TyOd9XbeMmgpSjY50FeB+AX5",
      "include_colab_link": true
    },
    "kernelspec": {
      "name": "python3",
      "display_name": "Python 3"
    },
    "language_info": {
      "name": "python"
    }
  },
  "cells": [
    {
      "cell_type": "markdown",
      "metadata": {
        "id": "view-in-github",
        "colab_type": "text"
      },
      "source": [
        "<a href=\"https://colab.research.google.com/github/difo23/interview-quest-js/blob/main/MCTEKK_FB_EXERCIES.ipynb\" target=\"_parent\"><img src=\"https://colab.research.google.com/assets/colab-badge.svg\" alt=\"Open In Colab\"/></a>"
      ]
    },
    {
      "cell_type": "markdown",
      "source": [
        "## Problem #1: Rest API\n",
        "### Instructions:\n",
        "Implement a [**RESTful API**](https://en.wikipedia.org/wiki/Representational_state_transfer) for tracking [**IOUs**](https://en.wikipedia.org/wiki/IOU).  \n",
        "Four roommates have a habit of borrowing money from each other frequently, and have trouble\n",
        "remembering who owes whom, and how much.\n",
        "\n",
        "Your task is:\n",
        "- [ ] to implement a simple RESTful API that receives IOUs as POST requests, and \n",
        "-[ ] can deliver specified summary information via GET requests."
      ],
      "metadata": {
        "id": "PxRerkaLuFMw"
      }
    },
    {
      "cell_type": "markdown",
      "source": [
        "### API Specification\n",
        "\n",
        "User object\n",
        "```json\n",
        "{\n",
        "  \"name\": \"Adam\",\n",
        "  \"owes\": {\n",
        "    \"Bob\": 12.0,\n",
        "    \"Chuck\": 4.0,\n",
        "    \"Dan\": 9.5\n",
        "  },\n",
        "  \"owed_by\": {\n",
        "  \"Bob\": 6.5,\n",
        "  \"Dan\": 2.75,\n",
        "  },\n",
        "\"balance\": \"<(total owed by other users) - (total owed to other users)>\"\n",
        "}\n",
        "```\n",
        "\n"
      ],
      "metadata": {
        "id": "eK-ycmZSvqZx"
      }
    },
    {
      "cell_type": "markdown",
      "source": [
        "### Methods\n",
        "\n",
        "| Description              | HTTP Method | URL    | Payload Format                                               | Response w/o Payload                  | Response w/Payload                                           |\n",
        "| ------------------------ | ----------- | ------ | ------------------------------------------------------------ | ------------------------------------- | ------------------------------------------------------------ |\n",
        "| List of user information | GET         | /users | {\"users\":[\"Adam\",\"Bob\"]}                                     | {\"users\": <List of all user objects>} | {\"users\": <List of User objects for <users> (sorted by name)>} |\n",
        "| Create user              | POST        | /add   | {\"user\":<name of new user(unique)>}                          | N/A                                   | < User object for new user >                                   |\n",
        "| Create IOU               | POST        | /iou   | {\"lender\":<name of  lender>, \"borrower\": <name of borrower> , amount: 5.25} | N/A                                   | {\"users\": <updated User objects for <lender and <borrer> (sorted by name)>} |\n",
        "\n",
        "\n",
        "\n",
        "\n",
        "\n"
      ],
      "metadata": {
        "id": "PmvpOBUXxCSa"
      }
    },
    {
      "cell_type": "markdown",
      "source": [
        "## Problem #2: Luhn\n",
        "\n",
        "Given a number, determine whether or not it is valid per the Luhn formula.\n",
        "The [Luhn algorithm](https://en.wikipedia.org/wiki/Luhn_algorithm) is a simple checksum formula used to validate a variety of identification\n",
        "numbers, such as credit card numbers and Canadian Social Insurance Numbers.\n",
        "\n",
        "The task is to check if a given string is valid."
      ],
      "metadata": {
        "id": "bqEz261m4EC1"
      }
    },
    {
      "cell_type": "markdown",
      "source": [
        "### Validating a Number\n",
        "Strings of length 1 or less are not valid. Spaces are allowed in the input, but they should be\n",
        "stripped before checking. All other non-digit characters are disallowed."
      ],
      "metadata": {
        "id": "CMo-EXq15aC4"
      }
    },
    {
      "cell_type": "markdown",
      "source": [
        "#### Example 1: \n",
        "\n",
        "Valid credit card number:\n",
        "\n",
        "`4539 3195 0343 6467`\n",
        "\n",
        "The first step of the Luhn algorithm is to double every second digit, starting from the right. We will be doubling: \n",
        "\n",
        "`4_3_  3_9_  0_4_  6_6_`"
      ],
      "metadata": {
        "id": "ACg5kZLa5jCG"
      }
    },
    {
      "cell_type": "markdown",
      "source": [
        "If doubling the number results in a number greater than 9 then subtract 9 from the product. The results of our doubling:\n",
        "\n",
        "`8569 6195 0383 3437`\n",
        "\n",
        "\n",
        "Then sum all of the digits:\n",
        "\n",
        "`8+5+6+9+6+1+9+5+0+3+8+3+3+4+3+7 = 80`\n",
        "\n",
        "If the sum is evenly divisible by 10, then the number is valid. This number is valid!"
      ],
      "metadata": {
        "id": "xgQgmohV6dz9"
      }
    },
    {
      "cell_type": "markdown",
      "source": [
        "#### Example 2: \n",
        "\n",
        "Invalid credit card number: \n",
        "`8273 1232 7352 0569`\n",
        "\n",
        "Double the second digits, starting from the right \n",
        "`7253 2262 5312 0539` \n",
        "\n",
        "Sum the digits \n",
        "\n",
        "`7+2+5+3+2+2+6+2+5+3+1+2+0+5+3+9 = 57`\n",
        "\n",
        "`57` is not evenly divisible by 10, so this number is not valid.\n"
      ],
      "metadata": {
        "id": "zdVt0L_V8CpO"
      }
    },
    {
      "cell_type": "markdown",
      "source": [
        "### Solution: "
      ],
      "metadata": {
        "id": "OfCJRqHXTVJa"
      }
    },
    {
      "cell_type": "code",
      "source": [
        "# python 3.8.10\n",
        "\n",
        "def luhn(credicard: str) -> bool:\n",
        "  \"\"\"\n",
        "    Validate a credit card number using the Luhn algorithm.\n",
        "  \"\"\"\n",
        "\n",
        "  # Clean whitespace\n",
        "  credicard_clean = credicard.replace(\" \", \"\")\n",
        "  credicard_len = len(credicard_clean)  \n",
        "\n",
        "  # Check if the card number is valid (length)\n",
        "  if credicard_len < 1 or credicard_len > 19:\n",
        "     return False\n",
        "  \n",
        "  # Check if the card number is only digits\n",
        "  if not credicard_clean.isdigit():\n",
        "    return False\n",
        "  \n",
        "  # Change to list of intergers\n",
        "  card_nums = list(map(int, credicard_clean))\n",
        "\n",
        "  # Double every second digit\n",
        "  for i in range(credicard_len):\n",
        "    if i % 2 == 0:\n",
        "      card_nums[i] = card_nums[i] * 2\n",
        "      if card_nums[i] > 9: \n",
        "        card_nums[i] = card_nums[i] - 9\n",
        "\n",
        "  # Validate the card number sum is divisible by 10\n",
        "  if sum(card_nums) % 10 == 0:\n",
        "    return True\n",
        "  else: \n",
        "    return False\n"
      ],
      "metadata": {
        "id": "PIQV8yEk73ZX"
      },
      "execution_count": 5,
      "outputs": []
    },
    {
      "cell_type": "markdown",
      "source": [
        "#### Test: "
      ],
      "metadata": {
        "id": "hUqI1W10gYYO"
      }
    },
    {
      "cell_type": "code",
      "source": [
        "test1 = luhn(\"4539 3195 0343 6467\") # True\n",
        "test2 = luhn(\"8273 1232 7352 0569\") # False\n",
        "\n",
        "print(test1)\n",
        "print(test2)"
      ],
      "metadata": {
        "colab": {
          "base_uri": "https://localhost:8080/"
        },
        "id": "H396J6BbfvZ7",
        "outputId": "d247bdb6-d14f-4290-c99d-53f70118943c"
      },
      "execution_count": 6,
      "outputs": [
        {
          "output_type": "stream",
          "name": "stdout",
          "text": [
            "True\n",
            "False\n"
          ]
        }
      ]
    },
    {
      "cell_type": "markdown",
      "source": [
        "## Problem #3: Complex Numbers \n",
        "### Instructions \n",
        "A complex number is a number in the form `a + b * i` \n",
        "where `a` and `b` are real and `i` satisfies `i^2 = -1`. `a` is called the real part and `b` is called the imaginary part of `z`. \n",
        "\n",
        "- The conjugate of the number `a + b * i` is the number `a - b * i`. \n",
        "\n",
        "- The absolute value of a complex number `z = a + b * i `is a real number `|z| = sqrt(a^2 + b^2)`. \n",
        "\n",
        "- The square of the absolute value `|z|^2` is the result of multiplication of `z` by its complex conjugate. \n",
        "\n",
        "\n",
        "- The sum/difference of two complex numbers involves adding/subtracting their real and imaginary parts separately: `(a + i * b) + (c + i * d) = (a + c) + (b + d) * i, (a + i * b) - (c + i * d) = (a - c) + (b - d) * i`. \n",
        "\n",
        "- Multiplication result is by definition (`a + i * b) * (c + i * d) = (a * c - b * d) + (b * c + a * d) * i`. \n",
        "\n",
        "- The reciprocal of a non-zero complex number is `1 / (a + i * b) = a/(a^2 + b^2) - b/(a^2 + b^2) * i`. \n",
        "\n",
        "- Dividing a complex number `a + i * b` by another `c + i * d` gives: `(a + i * b) / (c + i * d) = (a * c + b * d)/(c^2 + d^2) + (b * c - a * d)/(c^2 + d^2) * i`. \n",
        "\n",
        "\n"
      ],
      "metadata": {
        "id": "sHP_iwn78w-P"
      }
    },
    {
      "cell_type": "markdown",
      "source": [
        "Raising e to a complex exponent can be expressed as `e^(a + i * b) = e^a * e^(i * b)`, the last term of which is given by Euler's formula `e^(i * b) = cos(b) + i * sin(b)`. \n",
        "\n",
        "\n",
        "Implement the following operations: \n",
        "- [ ] addition, subtraction, multiplication and division of two complex numbers, \n",
        "- [ ] conjugate, absolute value, exponent of a given complex number. \n",
        "\n",
        "\n",
        "**Note: Assume the programming language you are using does not have an implementation of complex numbers.**\n"
      ],
      "metadata": {
        "id": "BYvR_LzZ-1NL"
      }
    }
  ]
}